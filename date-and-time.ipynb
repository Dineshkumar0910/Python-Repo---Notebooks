{
 "cells": [
  {
   "cell_type": "code",
   "execution_count": 1,
   "id": "a24720a2",
   "metadata": {
    "_cell_guid": "b1076dfc-b9ad-4769-8c92-a6c4dae69d19",
    "_uuid": "8f2839f25d086af736a60e9eeb907d3b93b6e0e5",
    "execution": {
     "iopub.execute_input": "2023-04-26T02:21:33.237351Z",
     "iopub.status.busy": "2023-04-26T02:21:33.236012Z",
     "iopub.status.idle": "2023-04-26T02:21:33.252035Z",
     "shell.execute_reply": "2023-04-26T02:21:33.250321Z"
    },
    "papermill": {
     "duration": 0.025822,
     "end_time": "2023-04-26T02:21:33.255000",
     "exception": false,
     "start_time": "2023-04-26T02:21:33.229178",
     "status": "completed"
    },
    "tags": []
   },
   "outputs": [
    {
     "name": "stdout",
     "output_type": "stream",
     "text": [
      "['MAXYEAR', 'MINYEAR', '__builtins__', '__cached__', '__doc__', '__file__', '__loader__', '__name__', '__package__', '__spec__', 'date', 'datetime', 'datetime_CAPI', 'sys', 'time', 'timedelta', 'timezone', 'tzinfo']\n"
     ]
    }
   ],
   "source": [
    "import datetime\n",
    "print(dir(datetime))"
   ]
  },
  {
   "cell_type": "code",
   "execution_count": 2,
   "id": "14b24b45",
   "metadata": {
    "execution": {
     "iopub.execute_input": "2023-04-26T02:21:33.263985Z",
     "iopub.status.busy": "2023-04-26T02:21:33.263206Z",
     "iopub.status.idle": "2023-04-26T02:21:33.272726Z",
     "shell.execute_reply": "2023-04-26T02:21:33.270662Z"
    },
    "papermill": {
     "duration": 0.017006,
     "end_time": "2023-04-26T02:21:33.275442",
     "exception": false,
     "start_time": "2023-04-26T02:21:33.258436",
     "status": "completed"
    },
    "tags": []
   },
   "outputs": [
    {
     "name": "stdout",
     "output_type": "stream",
     "text": [
      "2023-04-26 02:21:33.267677\n",
      "26 4 2023 2 21 33\n",
      "1682475693.267677\n"
     ]
    }
   ],
   "source": [
    "from datetime import datetime\n",
    "now = datetime.now()\n",
    "print(now)\n",
    "day = now.day\n",
    "month = now.month\n",
    "year = now.year\n",
    "hour = now.hour\n",
    "second = now.second\n",
    "minute = now.minute\n",
    "timestamp = now.timestamp()\n",
    "print(day,month,year,hour,minute,second)\n",
    "print(timestamp)"
   ]
  },
  {
   "cell_type": "code",
   "execution_count": 3,
   "id": "6f092130",
   "metadata": {
    "execution": {
     "iopub.execute_input": "2023-04-26T02:21:33.284584Z",
     "iopub.status.busy": "2023-04-26T02:21:33.283689Z",
     "iopub.status.idle": "2023-04-26T02:21:33.290811Z",
     "shell.execute_reply": "2023-04-26T02:21:33.288755Z"
    },
    "papermill": {
     "duration": 0.01539,
     "end_time": "2023-04-26T02:21:33.293861",
     "exception": false,
     "start_time": "2023-04-26T02:21:33.278471",
     "status": "completed"
    },
    "tags": []
   },
   "outputs": [],
   "source": [
    "f = open('test1.txt','w')\n",
    "f.write('Python Weekdays Class')\n",
    "f.close()"
   ]
  },
  {
   "cell_type": "code",
   "execution_count": 4,
   "id": "6a535750",
   "metadata": {
    "execution": {
     "iopub.execute_input": "2023-04-26T02:21:33.303528Z",
     "iopub.status.busy": "2023-04-26T02:21:33.302773Z",
     "iopub.status.idle": "2023-04-26T02:21:33.311227Z",
     "shell.execute_reply": "2023-04-26T02:21:33.309844Z"
    },
    "papermill": {
     "duration": 0.015946,
     "end_time": "2023-04-26T02:21:33.313811",
     "exception": false,
     "start_time": "2023-04-26T02:21:33.297865",
     "status": "completed"
    },
    "tags": []
   },
   "outputs": [
    {
     "name": "stdout",
     "output_type": "stream",
     "text": [
      "Python Wee\n"
     ]
    }
   ],
   "source": [
    "f = open('test1.txt','r')\n",
    "print(f.read(10))\n",
    "f.close()"
   ]
  },
  {
   "cell_type": "code",
   "execution_count": 5,
   "id": "a738a9d3",
   "metadata": {
    "execution": {
     "iopub.execute_input": "2023-04-26T02:21:33.322248Z",
     "iopub.status.busy": "2023-04-26T02:21:33.321559Z",
     "iopub.status.idle": "2023-04-26T02:21:33.329290Z",
     "shell.execute_reply": "2023-04-26T02:21:33.327538Z"
    },
    "papermill": {
     "duration": 0.015317,
     "end_time": "2023-04-26T02:21:33.332265",
     "exception": false,
     "start_time": "2023-04-26T02:21:33.316948",
     "status": "completed"
    },
    "tags": []
   },
   "outputs": [
    {
     "name": "stdout",
     "output_type": "stream",
     "text": [
      "\n"
     ]
    }
   ],
   "source": [
    "f = open('test1.txt','w+')\n",
    "f.write('File handling class')\n",
    "f.write('\\n Multiple line files')\n",
    "f.write('this is for understanging')\n",
    "print(f.read())"
   ]
  },
  {
   "cell_type": "code",
   "execution_count": 6,
   "id": "5cbd61bb",
   "metadata": {
    "execution": {
     "iopub.execute_input": "2023-04-26T02:21:33.341477Z",
     "iopub.status.busy": "2023-04-26T02:21:33.340742Z",
     "iopub.status.idle": "2023-04-26T02:21:33.349363Z",
     "shell.execute_reply": "2023-04-26T02:21:33.348304Z"
    },
    "papermill": {
     "duration": 0.016899,
     "end_time": "2023-04-26T02:21:33.352445",
     "exception": false,
     "start_time": "2023-04-26T02:21:33.335546",
     "status": "completed"
    },
    "tags": []
   },
   "outputs": [
    {
     "name": "stdout",
     "output_type": "stream",
     "text": [
      "This is append fn, \n",
      " new line inserting in the file for writeline\n",
      "\n",
      "\n",
      "\n"
     ]
    }
   ],
   "source": [
    "f = open('test1.txt','r+')\n",
    "f.writelines('This is append fn, \\n new line inserting in the file for writeline')\n",
    "f.seek(0)\n",
    "print(f.read())\n",
    "print(f.readline())\n",
    "print(f.read(10))\n",
    "print(f.readline(3))\n",
    "f.close()"
   ]
  },
  {
   "cell_type": "code",
   "execution_count": 7,
   "id": "6f2da907",
   "metadata": {
    "execution": {
     "iopub.execute_input": "2023-04-26T02:21:33.361329Z",
     "iopub.status.busy": "2023-04-26T02:21:33.360615Z",
     "iopub.status.idle": "2023-04-26T02:21:33.373416Z",
     "shell.execute_reply": "2023-04-26T02:21:33.371535Z"
    },
    "papermill": {
     "duration": 0.021292,
     "end_time": "2023-04-26T02:21:33.377015",
     "exception": false,
     "start_time": "2023-04-26T02:21:33.355723",
     "status": "completed"
    },
    "tags": []
   },
   "outputs": [
    {
     "name": "stdout",
     "output_type": "stream",
     "text": [
      "<_csv.reader object at 0x7d59367b32d0>\n"
     ]
    }
   ],
   "source": [
    "import csv\n",
    "with open('/kaggle/input/examples/examples.csv') as f:\n",
    "    csv_reader = csv.reader(f,delimiter=',')\n",
    "    print(csv_reader)\n",
    "    "
   ]
  }
 ],
 "metadata": {
  "kernelspec": {
   "display_name": "Python 3",
   "language": "python",
   "name": "python3"
  },
  "language_info": {
   "codemirror_mode": {
    "name": "ipython",
    "version": 3
   },
   "file_extension": ".py",
   "mimetype": "text/x-python",
   "name": "python",
   "nbconvert_exporter": "python",
   "pygments_lexer": "ipython3",
   "version": "3.7.12"
  },
  "papermill": {
   "default_parameters": {},
   "duration": 12.715412,
   "end_time": "2023-04-26T02:21:34.104933",
   "environment_variables": {},
   "exception": null,
   "input_path": "__notebook__.ipynb",
   "output_path": "__notebook__.ipynb",
   "parameters": {},
   "start_time": "2023-04-26T02:21:21.389521",
   "version": "2.4.0"
  }
 },
 "nbformat": 4,
 "nbformat_minor": 5
}
