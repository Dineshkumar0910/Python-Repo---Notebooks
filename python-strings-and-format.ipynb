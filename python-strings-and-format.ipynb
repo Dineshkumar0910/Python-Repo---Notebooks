{
 "cells": [
  {
   "cell_type": "code",
   "execution_count": 1,
   "id": "b41a747b",
   "metadata": {
    "_cell_guid": "b1076dfc-b9ad-4769-8c92-a6c4dae69d19",
    "_uuid": "8f2839f25d086af736a60e9eeb907d3b93b6e0e5",
    "execution": {
     "iopub.execute_input": "2023-04-05T02:24:14.500271Z",
     "iopub.status.busy": "2023-04-05T02:24:14.499707Z",
     "iopub.status.idle": "2023-04-05T02:24:14.515201Z",
     "shell.execute_reply": "2023-04-05T02:24:14.514294Z"
    },
    "papermill": {
     "duration": 0.027687,
     "end_time": "2023-04-05T02:24:14.517726",
     "exception": false,
     "start_time": "2023-04-05T02:24:14.490039",
     "status": "completed"
    },
    "tags": []
   },
   "outputs": [
    {
     "data": {
      "text/plain": [
       "float"
      ]
     },
     "execution_count": 1,
     "metadata": {},
     "output_type": "execute_result"
    }
   ],
   "source": [
    "a = 34.6\n",
    "a\n",
    "type(a)"
   ]
  },
  {
   "cell_type": "code",
   "execution_count": 2,
   "id": "f031a74d",
   "metadata": {
    "execution": {
     "iopub.execute_input": "2023-04-05T02:24:14.532852Z",
     "iopub.status.busy": "2023-04-05T02:24:14.532404Z",
     "iopub.status.idle": "2023-04-05T02:24:14.540664Z",
     "shell.execute_reply": "2023-04-05T02:24:14.539200Z"
    },
    "papermill": {
     "duration": 0.018777,
     "end_time": "2023-04-05T02:24:14.543166",
     "exception": false,
     "start_time": "2023-04-05T02:24:14.524389",
     "status": "completed"
    },
    "tags": []
   },
   "outputs": [
    {
     "name": "stdout",
     "output_type": "stream",
     "text": [
      "Python\n"
     ]
    },
    {
     "data": {
      "text/plain": [
       "'Data Science'"
      ]
     },
     "execution_count": 2,
     "metadata": {},
     "output_type": "execute_result"
    }
   ],
   "source": [
    "#STRINGS\n",
    "print('Python')\n",
    "\"Data Science\""
   ]
  },
  {
   "cell_type": "code",
   "execution_count": 3,
   "id": "f00ba50b",
   "metadata": {
    "execution": {
     "iopub.execute_input": "2023-04-05T02:24:14.558607Z",
     "iopub.status.busy": "2023-04-05T02:24:14.558146Z",
     "iopub.status.idle": "2023-04-05T02:24:14.564615Z",
     "shell.execute_reply": "2023-04-05T02:24:14.563144Z"
    },
    "papermill": {
     "duration": 0.017529,
     "end_time": "2023-04-05T02:24:14.567550",
     "exception": false,
     "start_time": "2023-04-05T02:24:14.550021",
     "status": "completed"
    },
    "tags": []
   },
   "outputs": [
    {
     "data": {
      "text/plain": [
       "\"I'm developer\""
      ]
     },
     "execution_count": 3,
     "metadata": {},
     "output_type": "execute_result"
    }
   ],
   "source": [
    "\"I'm developer\""
   ]
  },
  {
   "cell_type": "code",
   "execution_count": 4,
   "id": "aa80458c",
   "metadata": {
    "execution": {
     "iopub.execute_input": "2023-04-05T02:24:14.583855Z",
     "iopub.status.busy": "2023-04-05T02:24:14.583435Z",
     "iopub.status.idle": "2023-04-05T02:24:14.589404Z",
     "shell.execute_reply": "2023-04-05T02:24:14.588211Z"
    },
    "papermill": {
     "duration": 0.01735,
     "end_time": "2023-04-05T02:24:14.592057",
     "exception": false,
     "start_time": "2023-04-05T02:24:14.574707",
     "status": "completed"
    },
    "tags": []
   },
   "outputs": [
    {
     "name": "stdout",
     "output_type": "stream",
     "text": [
      "This is \n",
      " Python Class\n"
     ]
    }
   ],
   "source": [
    "print('This is \\n Python Class')"
   ]
  },
  {
   "cell_type": "code",
   "execution_count": 5,
   "id": "cb4f363f",
   "metadata": {
    "execution": {
     "iopub.execute_input": "2023-04-05T02:24:14.608508Z",
     "iopub.status.busy": "2023-04-05T02:24:14.607240Z",
     "iopub.status.idle": "2023-04-05T02:24:14.614485Z",
     "shell.execute_reply": "2023-04-05T02:24:14.613427Z"
    },
    "papermill": {
     "duration": 0.017762,
     "end_time": "2023-04-05T02:24:14.616670",
     "exception": false,
     "start_time": "2023-04-05T02:24:14.598908",
     "status": "completed"
    },
    "tags": []
   },
   "outputs": [
    {
     "data": {
      "text/plain": [
       "6"
      ]
     },
     "execution_count": 5,
     "metadata": {},
     "output_type": "execute_result"
    }
   ],
   "source": [
    "name = \"Sachin\"\n",
    "len(name)"
   ]
  },
  {
   "cell_type": "code",
   "execution_count": 6,
   "id": "e267ca72",
   "metadata": {
    "execution": {
     "iopub.execute_input": "2023-04-05T02:24:14.633551Z",
     "iopub.status.busy": "2023-04-05T02:24:14.633048Z",
     "iopub.status.idle": "2023-04-05T02:24:14.640885Z",
     "shell.execute_reply": "2023-04-05T02:24:14.639301Z"
    },
    "papermill": {
     "duration": 0.01877,
     "end_time": "2023-04-05T02:24:14.643211",
     "exception": false,
     "start_time": "2023-04-05T02:24:14.624441",
     "status": "completed"
    },
    "tags": []
   },
   "outputs": [
    {
     "data": {
      "text/plain": [
       "'S'"
      ]
     },
     "execution_count": 6,
     "metadata": {},
     "output_type": "execute_result"
    }
   ],
   "source": [
    "name[0]"
   ]
  },
  {
   "cell_type": "code",
   "execution_count": 7,
   "id": "ea6c821e",
   "metadata": {
    "execution": {
     "iopub.execute_input": "2023-04-05T02:24:14.660044Z",
     "iopub.status.busy": "2023-04-05T02:24:14.659621Z",
     "iopub.status.idle": "2023-04-05T02:24:14.667327Z",
     "shell.execute_reply": "2023-04-05T02:24:14.666045Z"
    },
    "papermill": {
     "duration": 0.019385,
     "end_time": "2023-04-05T02:24:14.669894",
     "exception": false,
     "start_time": "2023-04-05T02:24:14.650509",
     "status": "completed"
    },
    "tags": []
   },
   "outputs": [
    {
     "data": {
      "text/plain": [
       "'n'"
      ]
     },
     "execution_count": 7,
     "metadata": {},
     "output_type": "execute_result"
    }
   ],
   "source": [
    "name[5]"
   ]
  },
  {
   "cell_type": "code",
   "execution_count": 8,
   "id": "652d348f",
   "metadata": {
    "execution": {
     "iopub.execute_input": "2023-04-05T02:24:14.686789Z",
     "iopub.status.busy": "2023-04-05T02:24:14.685888Z",
     "iopub.status.idle": "2023-04-05T02:24:14.693361Z",
     "shell.execute_reply": "2023-04-05T02:24:14.692119Z"
    },
    "papermill": {
     "duration": 0.018534,
     "end_time": "2023-04-05T02:24:14.695713",
     "exception": false,
     "start_time": "2023-04-05T02:24:14.677179",
     "status": "completed"
    },
    "tags": []
   },
   "outputs": [
    {
     "data": {
      "text/plain": [
       "'achin'"
      ]
     },
     "execution_count": 8,
     "metadata": {},
     "output_type": "execute_result"
    }
   ],
   "source": [
    "#Slicing\n",
    "name[1:]"
   ]
  },
  {
   "cell_type": "code",
   "execution_count": 9,
   "id": "204affa5",
   "metadata": {
    "execution": {
     "iopub.execute_input": "2023-04-05T02:24:14.712212Z",
     "iopub.status.busy": "2023-04-05T02:24:14.711779Z",
     "iopub.status.idle": "2023-04-05T02:24:14.718868Z",
     "shell.execute_reply": "2023-04-05T02:24:14.717679Z"
    },
    "papermill": {
     "duration": 0.018282,
     "end_time": "2023-04-05T02:24:14.721296",
     "exception": false,
     "start_time": "2023-04-05T02:24:14.703014",
     "status": "completed"
    },
    "tags": []
   },
   "outputs": [
    {
     "data": {
      "text/plain": [
       "'Sachin'"
      ]
     },
     "execution_count": 9,
     "metadata": {},
     "output_type": "execute_result"
    }
   ],
   "source": [
    "name[:]"
   ]
  },
  {
   "cell_type": "code",
   "execution_count": 10,
   "id": "3437ad11",
   "metadata": {
    "execution": {
     "iopub.execute_input": "2023-04-05T02:24:14.739629Z",
     "iopub.status.busy": "2023-04-05T02:24:14.738777Z",
     "iopub.status.idle": "2023-04-05T02:24:14.745480Z",
     "shell.execute_reply": "2023-04-05T02:24:14.744646Z"
    },
    "papermill": {
     "duration": 0.017876,
     "end_time": "2023-04-05T02:24:14.747853",
     "exception": false,
     "start_time": "2023-04-05T02:24:14.729977",
     "status": "completed"
    },
    "tags": []
   },
   "outputs": [
    {
     "data": {
      "text/plain": [
       "'Sac'"
      ]
     },
     "execution_count": 10,
     "metadata": {},
     "output_type": "execute_result"
    }
   ],
   "source": [
    "name[:3]"
   ]
  },
  {
   "cell_type": "code",
   "execution_count": 11,
   "id": "c5abe4d4",
   "metadata": {
    "execution": {
     "iopub.execute_input": "2023-04-05T02:24:14.765059Z",
     "iopub.status.busy": "2023-04-05T02:24:14.764615Z",
     "iopub.status.idle": "2023-04-05T02:24:14.772268Z",
     "shell.execute_reply": "2023-04-05T02:24:14.770915Z"
    },
    "papermill": {
     "duration": 0.019712,
     "end_time": "2023-04-05T02:24:14.775015",
     "exception": false,
     "start_time": "2023-04-05T02:24:14.755303",
     "status": "completed"
    },
    "tags": []
   },
   "outputs": [
    {
     "data": {
      "text/plain": [
       "'n'"
      ]
     },
     "execution_count": 11,
     "metadata": {},
     "output_type": "execute_result"
    }
   ],
   "source": [
    "name[-1]"
   ]
  },
  {
   "cell_type": "code",
   "execution_count": 12,
   "id": "34efd2bb",
   "metadata": {
    "execution": {
     "iopub.execute_input": "2023-04-05T02:24:14.792821Z",
     "iopub.status.busy": "2023-04-05T02:24:14.791877Z",
     "iopub.status.idle": "2023-04-05T02:24:14.799168Z",
     "shell.execute_reply": "2023-04-05T02:24:14.797938Z"
    },
    "papermill": {
     "duration": 0.018879,
     "end_time": "2023-04-05T02:24:14.801710",
     "exception": false,
     "start_time": "2023-04-05T02:24:14.782831",
     "status": "completed"
    },
    "tags": []
   },
   "outputs": [
    {
     "data": {
      "text/plain": [
       "'Sachi'"
      ]
     },
     "execution_count": 12,
     "metadata": {},
     "output_type": "execute_result"
    }
   ],
   "source": [
    "name[:-1]"
   ]
  },
  {
   "cell_type": "code",
   "execution_count": 13,
   "id": "4fa50ad3",
   "metadata": {
    "execution": {
     "iopub.execute_input": "2023-04-05T02:24:14.818693Z",
     "iopub.status.busy": "2023-04-05T02:24:14.818298Z",
     "iopub.status.idle": "2023-04-05T02:24:14.826425Z",
     "shell.execute_reply": "2023-04-05T02:24:14.825140Z"
    },
    "papermill": {
     "duration": 0.019798,
     "end_time": "2023-04-05T02:24:14.829167",
     "exception": false,
     "start_time": "2023-04-05T02:24:14.809369",
     "status": "completed"
    },
    "tags": []
   },
   "outputs": [
    {
     "data": {
      "text/plain": [
       "'Sci'"
      ]
     },
     "execution_count": 13,
     "metadata": {},
     "output_type": "execute_result"
    }
   ],
   "source": [
    "name[::2]"
   ]
  },
  {
   "cell_type": "code",
   "execution_count": 14,
   "id": "a23fc091",
   "metadata": {
    "execution": {
     "iopub.execute_input": "2023-04-05T02:24:14.848036Z",
     "iopub.status.busy": "2023-04-05T02:24:14.847387Z",
     "iopub.status.idle": "2023-04-05T02:24:14.855552Z",
     "shell.execute_reply": "2023-04-05T02:24:14.854214Z"
    },
    "papermill": {
     "duration": 0.020721,
     "end_time": "2023-04-05T02:24:14.858134",
     "exception": false,
     "start_time": "2023-04-05T02:24:14.837413",
     "status": "completed"
    },
    "tags": []
   },
   "outputs": [
    {
     "data": {
      "text/plain": [
       "'nihcaS'"
      ]
     },
     "execution_count": 14,
     "metadata": {},
     "output_type": "execute_result"
    }
   ],
   "source": [
    "name[::-1] #reverse"
   ]
  },
  {
   "cell_type": "code",
   "execution_count": 15,
   "id": "5f55ecc9",
   "metadata": {
    "execution": {
     "iopub.execute_input": "2023-04-05T02:24:14.876602Z",
     "iopub.status.busy": "2023-04-05T02:24:14.875511Z",
     "iopub.status.idle": "2023-04-05T02:24:14.880829Z",
     "shell.execute_reply": "2023-04-05T02:24:14.879932Z"
    },
    "papermill": {
     "duration": 0.017138,
     "end_time": "2023-04-05T02:24:14.883231",
     "exception": false,
     "start_time": "2023-04-05T02:24:14.866093",
     "status": "completed"
    },
    "tags": []
   },
   "outputs": [],
   "source": [
    "name2 = \"Tendulkar\""
   ]
  },
  {
   "cell_type": "code",
   "execution_count": 16,
   "id": "cb1b03dc",
   "metadata": {
    "execution": {
     "iopub.execute_input": "2023-04-05T02:24:14.902772Z",
     "iopub.status.busy": "2023-04-05T02:24:14.901937Z",
     "iopub.status.idle": "2023-04-05T02:24:14.908964Z",
     "shell.execute_reply": "2023-04-05T02:24:14.907543Z"
    },
    "papermill": {
     "duration": 0.020132,
     "end_time": "2023-04-05T02:24:14.911868",
     "exception": false,
     "start_time": "2023-04-05T02:24:14.891736",
     "status": "completed"
    },
    "tags": []
   },
   "outputs": [
    {
     "name": "stdout",
     "output_type": "stream",
     "text": [
      "SachinTendulkar\n"
     ]
    }
   ],
   "source": [
    "name = name + name2\n",
    "print(name)"
   ]
  },
  {
   "cell_type": "code",
   "execution_count": 17,
   "id": "49f57cf1",
   "metadata": {
    "execution": {
     "iopub.execute_input": "2023-04-05T02:24:14.930560Z",
     "iopub.status.busy": "2023-04-05T02:24:14.930134Z",
     "iopub.status.idle": "2023-04-05T02:24:14.940098Z",
     "shell.execute_reply": "2023-04-05T02:24:14.938775Z"
    },
    "papermill": {
     "duration": 0.022426,
     "end_time": "2023-04-05T02:24:14.942904",
     "exception": false,
     "start_time": "2023-04-05T02:24:14.920478",
     "status": "completed"
    },
    "tags": []
   },
   "outputs": [
    {
     "data": {
      "text/plain": [
       "'SachinTendulkarSachinTendulkarSachinTendulkar'"
      ]
     },
     "execution_count": 17,
     "metadata": {},
     "output_type": "execute_result"
    }
   ],
   "source": [
    "name * 3"
   ]
  },
  {
   "cell_type": "code",
   "execution_count": 18,
   "id": "631d946a",
   "metadata": {
    "execution": {
     "iopub.execute_input": "2023-04-05T02:24:14.962952Z",
     "iopub.status.busy": "2023-04-05T02:24:14.962475Z",
     "iopub.status.idle": "2023-04-05T02:24:14.968341Z",
     "shell.execute_reply": "2023-04-05T02:24:14.967026Z"
    },
    "papermill": {
     "duration": 0.019159,
     "end_time": "2023-04-05T02:24:14.971171",
     "exception": false,
     "start_time": "2023-04-05T02:24:14.952012",
     "status": "completed"
    },
    "tags": []
   },
   "outputs": [],
   "source": [
    "name = 'Scahin*  &Tendulkar'"
   ]
  },
  {
   "cell_type": "code",
   "execution_count": 19,
   "id": "d42ade4e",
   "metadata": {
    "execution": {
     "iopub.execute_input": "2023-04-05T02:24:14.989908Z",
     "iopub.status.busy": "2023-04-05T02:24:14.989379Z",
     "iopub.status.idle": "2023-04-05T02:24:14.996284Z",
     "shell.execute_reply": "2023-04-05T02:24:14.995234Z"
    },
    "papermill": {
     "duration": 0.018946,
     "end_time": "2023-04-05T02:24:14.998620",
     "exception": false,
     "start_time": "2023-04-05T02:24:14.979674",
     "status": "completed"
    },
    "tags": []
   },
   "outputs": [
    {
     "data": {
      "text/plain": [
       "'SCAHIN*  &TENDULKAR'"
      ]
     },
     "execution_count": 19,
     "metadata": {},
     "output_type": "execute_result"
    }
   ],
   "source": [
    "name.upper()"
   ]
  },
  {
   "cell_type": "code",
   "execution_count": 20,
   "id": "c4974288",
   "metadata": {
    "execution": {
     "iopub.execute_input": "2023-04-05T02:24:15.016902Z",
     "iopub.status.busy": "2023-04-05T02:24:15.016434Z",
     "iopub.status.idle": "2023-04-05T02:24:15.024740Z",
     "shell.execute_reply": "2023-04-05T02:24:15.023170Z"
    },
    "papermill": {
     "duration": 0.020549,
     "end_time": "2023-04-05T02:24:15.027414",
     "exception": false,
     "start_time": "2023-04-05T02:24:15.006865",
     "status": "completed"
    },
    "tags": []
   },
   "outputs": [
    {
     "data": {
      "text/plain": [
       "'scahin*  &tendulkar'"
      ]
     },
     "execution_count": 20,
     "metadata": {},
     "output_type": "execute_result"
    }
   ],
   "source": [
    "name.lower()"
   ]
  },
  {
   "cell_type": "code",
   "execution_count": 21,
   "id": "d159ebbe",
   "metadata": {
    "execution": {
     "iopub.execute_input": "2023-04-05T02:24:15.046022Z",
     "iopub.status.busy": "2023-04-05T02:24:15.045530Z",
     "iopub.status.idle": "2023-04-05T02:24:15.052454Z",
     "shell.execute_reply": "2023-04-05T02:24:15.051562Z"
    },
    "papermill": {
     "duration": 0.01904,
     "end_time": "2023-04-05T02:24:15.054821",
     "exception": false,
     "start_time": "2023-04-05T02:24:15.035781",
     "status": "completed"
    },
    "tags": []
   },
   "outputs": [
    {
     "data": {
      "text/plain": [
       "['Scahin*', '&Tendulkar']"
      ]
     },
     "execution_count": 21,
     "metadata": {},
     "output_type": "execute_result"
    }
   ],
   "source": [
    "name.split()"
   ]
  },
  {
   "cell_type": "code",
   "execution_count": 22,
   "id": "57ad456d",
   "metadata": {
    "execution": {
     "iopub.execute_input": "2023-04-05T02:24:15.074318Z",
     "iopub.status.busy": "2023-04-05T02:24:15.073876Z",
     "iopub.status.idle": "2023-04-05T02:24:15.081727Z",
     "shell.execute_reply": "2023-04-05T02:24:15.080034Z"
    },
    "papermill": {
     "duration": 0.020701,
     "end_time": "2023-04-05T02:24:15.084368",
     "exception": false,
     "start_time": "2023-04-05T02:24:15.063667",
     "status": "completed"
    },
    "tags": []
   },
   "outputs": [
    {
     "data": {
      "text/plain": [
       "['Scahin*  &', 'endulkar']"
      ]
     },
     "execution_count": 22,
     "metadata": {},
     "output_type": "execute_result"
    }
   ],
   "source": [
    "name.split('T')"
   ]
  },
  {
   "cell_type": "code",
   "execution_count": 23,
   "id": "1508faa9",
   "metadata": {
    "execution": {
     "iopub.execute_input": "2023-04-05T02:24:15.104153Z",
     "iopub.status.busy": "2023-04-05T02:24:15.103538Z",
     "iopub.status.idle": "2023-04-05T02:24:15.110660Z",
     "shell.execute_reply": "2023-04-05T02:24:15.108912Z"
    },
    "jupyter": {
     "source_hidden": true
    },
    "papermill": {
     "duration": 0.020268,
     "end_time": "2023-04-05T02:24:15.113188",
     "exception": false,
     "start_time": "2023-04-05T02:24:15.092920",
     "status": "completed"
    },
    "tags": []
   },
   "outputs": [
    {
     "name": "stdout",
     "output_type": "stream",
     "text": [
      "I'm a deveoper and in chennai,\n"
     ]
    }
   ],
   "source": [
    "print(\"I'm a deveoper and %s,\"% 'in chennai')"
   ]
  },
  {
   "cell_type": "code",
   "execution_count": 24,
   "id": "77abd79a",
   "metadata": {
    "execution": {
     "iopub.execute_input": "2023-04-05T02:24:15.133764Z",
     "iopub.status.busy": "2023-04-05T02:24:15.133287Z",
     "iopub.status.idle": "2023-04-05T02:24:15.140307Z",
     "shell.execute_reply": "2023-04-05T02:24:15.138565Z"
    },
    "papermill": {
     "duration": 0.021134,
     "end_time": "2023-04-05T02:24:15.143417",
     "exception": false,
     "start_time": "2023-04-05T02:24:15.122283",
     "status": "completed"
    },
    "tags": []
   },
   "outputs": [
    {
     "name": "stdout",
     "output_type": "stream",
     "text": [
      "My name is Sachin\n",
      "My name is '\\tSachin'\n"
     ]
    }
   ],
   "source": [
    "print('My name is %s' %'Sachin')\n",
    "print('My name is %r' %'\\tSachin')"
   ]
  },
  {
   "cell_type": "code",
   "execution_count": 25,
   "id": "930aaa2d",
   "metadata": {
    "execution": {
     "iopub.execute_input": "2023-04-05T02:24:15.164408Z",
     "iopub.status.busy": "2023-04-05T02:24:15.163140Z",
     "iopub.status.idle": "2023-04-05T02:24:15.170138Z",
     "shell.execute_reply": "2023-04-05T02:24:15.168666Z"
    },
    "papermill": {
     "duration": 0.020571,
     "end_time": "2023-04-05T02:24:15.172854",
     "exception": false,
     "start_time": "2023-04-05T02:24:15.152283",
     "status": "completed"
    },
    "tags": []
   },
   "outputs": [
    {
     "name": "stdout",
     "output_type": "stream",
     "text": [
      "I scored 99.5 in exam\n",
      "I scored 99 in exam\n"
     ]
    }
   ],
   "source": [
    "print('I scored %s in exam'%99.5)\n",
    "print('I scored %d in exam'%99.5)"
   ]
  }
 ],
 "metadata": {
  "kernelspec": {
   "display_name": "Python 3",
   "language": "python",
   "name": "python3"
  },
  "language_info": {
   "codemirror_mode": {
    "name": "ipython",
    "version": 3
   },
   "file_extension": ".py",
   "mimetype": "text/x-python",
   "name": "python",
   "nbconvert_exporter": "python",
   "pygments_lexer": "ipython3",
   "version": "3.7.12"
  },
  "papermill": {
   "default_parameters": {},
   "duration": 12.043445,
   "end_time": "2023-04-05T02:24:15.904112",
   "environment_variables": {},
   "exception": null,
   "input_path": "__notebook__.ipynb",
   "output_path": "__notebook__.ipynb",
   "parameters": {},
   "start_time": "2023-04-05T02:24:03.860667",
   "version": "2.4.0"
  }
 },
 "nbformat": 4,
 "nbformat_minor": 5
}
