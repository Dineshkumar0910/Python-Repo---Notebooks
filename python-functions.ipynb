{
 "cells": [
  {
   "cell_type": "code",
   "execution_count": 1,
   "id": "4acde7cd",
   "metadata": {
    "_cell_guid": "b1076dfc-b9ad-4769-8c92-a6c4dae69d19",
    "_uuid": "8f2839f25d086af736a60e9eeb907d3b93b6e0e5",
    "execution": {
     "iopub.execute_input": "2023-04-13T02:24:11.885612Z",
     "iopub.status.busy": "2023-04-13T02:24:11.885214Z",
     "iopub.status.idle": "2023-04-13T02:24:11.895332Z",
     "shell.execute_reply": "2023-04-13T02:24:11.893985Z"
    },
    "papermill": {
     "duration": 0.022787,
     "end_time": "2023-04-13T02:24:11.898763",
     "exception": false,
     "start_time": "2023-04-13T02:24:11.875976",
     "status": "completed"
    },
    "tags": []
   },
   "outputs": [],
   "source": [
    "li = [1,2,4,6,78]"
   ]
  },
  {
   "cell_type": "code",
   "execution_count": 2,
   "id": "c282dc75",
   "metadata": {
    "execution": {
     "iopub.execute_input": "2023-04-13T02:24:11.913550Z",
     "iopub.status.busy": "2023-04-13T02:24:11.912324Z",
     "iopub.status.idle": "2023-04-13T02:24:11.923594Z",
     "shell.execute_reply": "2023-04-13T02:24:11.921743Z"
    },
    "papermill": {
     "duration": 0.021868,
     "end_time": "2023-04-13T02:24:11.926797",
     "exception": false,
     "start_time": "2023-04-13T02:24:11.904929",
     "status": "completed"
    },
    "tags": []
   },
   "outputs": [
    {
     "data": {
      "text/plain": [
       "5"
      ]
     },
     "execution_count": 2,
     "metadata": {},
     "output_type": "execute_result"
    }
   ],
   "source": [
    "len(li)"
   ]
  },
  {
   "cell_type": "code",
   "execution_count": 3,
   "id": "44c35097",
   "metadata": {
    "execution": {
     "iopub.execute_input": "2023-04-13T02:24:11.939016Z",
     "iopub.status.busy": "2023-04-13T02:24:11.938629Z",
     "iopub.status.idle": "2023-04-13T02:24:11.945353Z",
     "shell.execute_reply": "2023-04-13T02:24:11.944232Z"
    },
    "papermill": {
     "duration": 0.015789,
     "end_time": "2023-04-13T02:24:11.947810",
     "exception": false,
     "start_time": "2023-04-13T02:24:11.932021",
     "status": "completed"
    },
    "tags": []
   },
   "outputs": [
    {
     "data": {
      "text/plain": [
       "1"
      ]
     },
     "execution_count": 3,
     "metadata": {},
     "output_type": "execute_result"
    }
   ],
   "source": [
    "li.count(2)"
   ]
  },
  {
   "cell_type": "code",
   "execution_count": 4,
   "id": "e3a236b5",
   "metadata": {
    "execution": {
     "iopub.execute_input": "2023-04-13T02:24:11.963715Z",
     "iopub.status.busy": "2023-04-13T02:24:11.963086Z",
     "iopub.status.idle": "2023-04-13T02:24:11.970312Z",
     "shell.execute_reply": "2023-04-13T02:24:11.969200Z"
    },
    "papermill": {
     "duration": 0.019727,
     "end_time": "2023-04-13T02:24:11.972602",
     "exception": false,
     "start_time": "2023-04-13T02:24:11.952875",
     "status": "completed"
    },
    "tags": []
   },
   "outputs": [
    {
     "data": {
      "text/plain": [
       "[1, 2, 4, 6, 78, 10]"
      ]
     },
     "execution_count": 4,
     "metadata": {},
     "output_type": "execute_result"
    }
   ],
   "source": [
    "li.append(10)\n",
    "li"
   ]
  },
  {
   "cell_type": "code",
   "execution_count": 5,
   "id": "ce7c7b1b",
   "metadata": {
    "execution": {
     "iopub.execute_input": "2023-04-13T02:24:11.985147Z",
     "iopub.status.busy": "2023-04-13T02:24:11.984642Z",
     "iopub.status.idle": "2023-04-13T02:24:11.991530Z",
     "shell.execute_reply": "2023-04-13T02:24:11.990146Z"
    },
    "papermill": {
     "duration": 0.016928,
     "end_time": "2023-04-13T02:24:11.994797",
     "exception": false,
     "start_time": "2023-04-13T02:24:11.977869",
     "status": "completed"
    },
    "tags": []
   },
   "outputs": [
    {
     "name": "stdout",
     "output_type": "stream",
     "text": [
      "Wlecome to Python class\n"
     ]
    }
   ],
   "source": [
    "def fita():\n",
    "    print(\"Wlecome to Python class\")\n",
    "\n",
    "fita()"
   ]
  },
  {
   "cell_type": "code",
   "execution_count": 6,
   "id": "a4698611",
   "metadata": {
    "execution": {
     "iopub.execute_input": "2023-04-13T02:24:12.008474Z",
     "iopub.status.busy": "2023-04-13T02:24:12.008051Z",
     "iopub.status.idle": "2023-04-13T02:24:12.014483Z",
     "shell.execute_reply": "2023-04-13T02:24:12.013195Z"
    },
    "papermill": {
     "duration": 0.016572,
     "end_time": "2023-04-13T02:24:12.017014",
     "exception": false,
     "start_time": "2023-04-13T02:24:12.000442",
     "status": "completed"
    },
    "tags": []
   },
   "outputs": [
    {
     "name": "stdout",
     "output_type": "stream",
     "text": [
      "Hello,Good MorningDinesh\n"
     ]
    }
   ],
   "source": [
    "def greet(name):\n",
    "    print(f'Hello,Good Morning{name}')\n",
    "    \n",
    "greet('Dinesh')"
   ]
  },
  {
   "cell_type": "code",
   "execution_count": 7,
   "id": "2408da33",
   "metadata": {
    "execution": {
     "iopub.execute_input": "2023-04-13T02:24:12.031995Z",
     "iopub.status.busy": "2023-04-13T02:24:12.031218Z",
     "iopub.status.idle": "2023-04-13T02:24:12.039872Z",
     "shell.execute_reply": "2023-04-13T02:24:12.038290Z"
    },
    "papermill": {
     "duration": 0.020245,
     "end_time": "2023-04-13T02:24:12.043258",
     "exception": false,
     "start_time": "2023-04-13T02:24:12.023013",
     "status": "completed"
    },
    "tags": []
   },
   "outputs": [
    {
     "data": {
      "text/plain": [
       "9"
      ]
     },
     "execution_count": 7,
     "metadata": {},
     "output_type": "execute_result"
    }
   ],
   "source": [
    "def add_num(n1,n2):\n",
    "    return n1+n2\n",
    "\n",
    "add_num(4,5)"
   ]
  },
  {
   "cell_type": "code",
   "execution_count": 8,
   "id": "9fef5e94",
   "metadata": {
    "execution": {
     "iopub.execute_input": "2023-04-13T02:24:12.057261Z",
     "iopub.status.busy": "2023-04-13T02:24:12.056808Z",
     "iopub.status.idle": "2023-04-13T02:24:12.066299Z",
     "shell.execute_reply": "2023-04-13T02:24:12.064990Z"
    },
    "papermill": {
     "duration": 0.020293,
     "end_time": "2023-04-13T02:24:12.069106",
     "exception": false,
     "start_time": "2023-04-13T02:24:12.048813",
     "status": "completed"
    },
    "tags": []
   },
   "outputs": [
    {
     "data": {
      "text/plain": [
       "True"
      ]
     },
     "execution_count": 8,
     "metadata": {},
     "output_type": "execute_result"
    }
   ],
   "source": [
    "list1 = [2,4,5,80,13,34,765,64]\n",
    "def check(list1):\n",
    "    for n in list1:\n",
    "        if n % 2 == 0:\n",
    "            return True\n",
    "        else:\n",
    "            pass\n",
    "check([2,4,5,80,13,34,765,64])"
   ]
  },
  {
   "cell_type": "code",
   "execution_count": 9,
   "id": "411c91a1",
   "metadata": {
    "execution": {
     "iopub.execute_input": "2023-04-13T02:24:12.083219Z",
     "iopub.status.busy": "2023-04-13T02:24:12.082780Z",
     "iopub.status.idle": "2023-04-13T02:24:12.089230Z",
     "shell.execute_reply": "2023-04-13T02:24:12.087639Z"
    },
    "papermill": {
     "duration": 0.016405,
     "end_time": "2023-04-13T02:24:12.091705",
     "exception": false,
     "start_time": "2023-04-13T02:24:12.075300",
     "status": "completed"
    },
    "tags": []
   },
   "outputs": [
    {
     "name": "stdout",
     "output_type": "stream",
     "text": [
      "21\n"
     ]
    }
   ],
   "source": [
    "from random import randint\n",
    "\n",
    "print(randint(1,25))"
   ]
  },
  {
   "cell_type": "code",
   "execution_count": 10,
   "id": "56e0b28d",
   "metadata": {
    "execution": {
     "iopub.execute_input": "2023-04-13T02:24:12.105734Z",
     "iopub.status.busy": "2023-04-13T02:24:12.105333Z",
     "iopub.status.idle": "2023-04-13T02:24:12.113518Z",
     "shell.execute_reply": "2023-04-13T02:24:12.111741Z"
    },
    "papermill": {
     "duration": 0.01933,
     "end_time": "2023-04-13T02:24:12.116873",
     "exception": false,
     "start_time": "2023-04-13T02:24:12.097543",
     "status": "completed"
    },
    "tags": []
   },
   "outputs": [
    {
     "name": "stdout",
     "output_type": "stream",
     "text": [
      "Python\n",
      "Data Science\n"
     ]
    }
   ],
   "source": [
    "gl = 'Data Science'\n",
    "\n",
    "def test():\n",
    "    loc = \"Python\"\n",
    "    print(loc)\n",
    "\n",
    "test()\n",
    "\n",
    "print(gl)"
   ]
  },
  {
   "cell_type": "code",
   "execution_count": 11,
   "id": "e294edbf",
   "metadata": {
    "execution": {
     "iopub.execute_input": "2023-04-13T02:24:12.132236Z",
     "iopub.status.busy": "2023-04-13T02:24:12.131776Z",
     "iopub.status.idle": "2023-04-13T02:24:12.138587Z",
     "shell.execute_reply": "2023-04-13T02:24:12.137124Z"
    },
    "papermill": {
     "duration": 0.018599,
     "end_time": "2023-04-13T02:24:12.141499",
     "exception": false,
     "start_time": "2023-04-13T02:24:12.122900",
     "status": "completed"
    },
    "tags": []
   },
   "outputs": [
    {
     "name": "stdout",
     "output_type": "stream",
     "text": [
      "40\n",
      "-40\n"
     ]
    }
   ],
   "source": [
    "def cal(x,y):\n",
    "    print(x-y)\n",
    "cal(50,10)\n",
    "cal(10,50)"
   ]
  },
  {
   "cell_type": "code",
   "execution_count": 12,
   "id": "e7e41acb",
   "metadata": {
    "execution": {
     "iopub.execute_input": "2023-04-13T02:24:12.155570Z",
     "iopub.status.busy": "2023-04-13T02:24:12.154890Z",
     "iopub.status.idle": "2023-04-13T02:24:12.162769Z",
     "shell.execute_reply": "2023-04-13T02:24:12.161320Z"
    },
    "papermill": {
     "duration": 0.018027,
     "end_time": "2023-04-13T02:24:12.165273",
     "exception": false,
     "start_time": "2023-04-13T02:24:12.147246",
     "status": "completed"
    },
    "tags": []
   },
   "outputs": [
    {
     "name": "stdout",
     "output_type": "stream",
     "text": [
      "Congrats S Sathish\n"
     ]
    }
   ],
   "source": [
    "def congrats(name, initial):\n",
    "    print(\"Congrats\", initial,name)\n",
    "\n",
    "congrats(name=\"Sathish\",initial=\"S\")"
   ]
  },
  {
   "cell_type": "code",
   "execution_count": 13,
   "id": "801f2225",
   "metadata": {
    "execution": {
     "iopub.execute_input": "2023-04-13T02:24:12.179692Z",
     "iopub.status.busy": "2023-04-13T02:24:12.179266Z",
     "iopub.status.idle": "2023-04-13T02:24:12.184910Z",
     "shell.execute_reply": "2023-04-13T02:24:12.183735Z"
    },
    "papermill": {
     "duration": 0.017163,
     "end_time": "2023-04-13T02:24:12.188231",
     "exception": false,
     "start_time": "2023-04-13T02:24:12.171068",
     "status": "completed"
    },
    "tags": []
   },
   "outputs": [
    {
     "name": "stdout",
     "output_type": "stream",
     "text": [
      "Hello David\n",
      "Hello Rizwan\n"
     ]
    }
   ],
   "source": [
    "def congrats(name=\"David\"):\n",
    "    print(\"Hello\",name)\n",
    "\n",
    "congrats()\n",
    "congrats(\"Rizwan\")"
   ]
  },
  {
   "cell_type": "code",
   "execution_count": 14,
   "id": "e01894c9",
   "metadata": {
    "execution": {
     "iopub.execute_input": "2023-04-13T02:24:12.203464Z",
     "iopub.status.busy": "2023-04-13T02:24:12.203039Z",
     "iopub.status.idle": "2023-04-13T02:24:12.210845Z",
     "shell.execute_reply": "2023-04-13T02:24:12.209090Z"
    },
    "papermill": {
     "duration": 0.019339,
     "end_time": "2023-04-13T02:24:12.214650",
     "exception": false,
     "start_time": "2023-04-13T02:24:12.195311",
     "status": "completed"
    },
    "tags": []
   },
   "outputs": [
    {
     "name": "stdout",
     "output_type": "stream",
     "text": [
      "Total 5\n",
      "Total 0\n",
      "Total 33\n"
     ]
    }
   ],
   "source": [
    "def addition(*n):\n",
    "    t = 0\n",
    "    for no in n:\n",
    "        t = t + no\n",
    "    print(\"Total\",t)\n",
    "\n",
    "addition(2,3)\n",
    "addition()\n",
    "addition(1,23,4,5)"
   ]
  },
  {
   "cell_type": "code",
   "execution_count": 15,
   "id": "30dd49a5",
   "metadata": {
    "execution": {
     "iopub.execute_input": "2023-04-13T02:24:12.230874Z",
     "iopub.status.busy": "2023-04-13T02:24:12.230464Z",
     "iopub.status.idle": "2023-04-13T02:24:12.239514Z",
     "shell.execute_reply": "2023-04-13T02:24:12.236845Z"
    },
    "papermill": {
     "duration": 0.020796,
     "end_time": "2023-04-13T02:24:12.242579",
     "exception": false,
     "start_time": "2023-04-13T02:24:12.221783",
     "status": "completed"
    },
    "tags": []
   },
   "outputs": [
    {
     "name": "stdout",
     "output_type": "stream",
     "text": [
      "Factorial is 24\n"
     ]
    }
   ],
   "source": [
    "def fact(n):\n",
    "    if n == 0:\n",
    "        return 1\n",
    "    else:\n",
    "        return n * fact(n-1)\n",
    "\n",
    "print(\"Factorial is\",fact(4))"
   ]
  },
  {
   "cell_type": "code",
   "execution_count": 16,
   "id": "f962aad3",
   "metadata": {
    "execution": {
     "iopub.execute_input": "2023-04-13T02:24:12.256731Z",
     "iopub.status.busy": "2023-04-13T02:24:12.256271Z",
     "iopub.status.idle": "2023-04-13T02:24:12.263507Z",
     "shell.execute_reply": "2023-04-13T02:24:12.262256Z"
    },
    "papermill": {
     "duration": 0.017591,
     "end_time": "2023-04-13T02:24:12.266294",
     "exception": false,
     "start_time": "2023-04-13T02:24:12.248703",
     "status": "completed"
    },
    "tags": []
   },
   "outputs": [
    {
     "name": "stdout",
     "output_type": "stream",
     "text": [
      "[10, 12, 78, 6]\n"
     ]
    }
   ],
   "source": [
    "def even(n):\n",
    "    en_li = []\n",
    "    for x in n:\n",
    "        if x % 2 == 0:\n",
    "            en_li.append(x)\n",
    "    return en_li\n",
    "\n",
    "n = [10,5,12,78,6,1,7,9]\n",
    "a = even(n)\n",
    "print(a)"
   ]
  },
  {
   "cell_type": "code",
   "execution_count": 17,
   "id": "0322ebe5",
   "metadata": {
    "execution": {
     "iopub.execute_input": "2023-04-13T02:24:12.281947Z",
     "iopub.status.busy": "2023-04-13T02:24:12.281226Z",
     "iopub.status.idle": "2023-04-13T02:24:12.288326Z",
     "shell.execute_reply": "2023-04-13T02:24:12.286902Z"
    },
    "papermill": {
     "duration": 0.018269,
     "end_time": "2023-04-13T02:24:12.291291",
     "exception": false,
     "start_time": "2023-04-13T02:24:12.273022",
     "status": "completed"
    },
    "tags": []
   },
   "outputs": [
    {
     "name": "stdout",
     "output_type": "stream",
     "text": [
      "[10, 12, 78, 6]\n"
     ]
    }
   ],
   "source": [
    "n = [10,5,12,78,6,1,7,9]\n",
    "even_nos = list(filter(lambda x: x %2 == 0,n))\n",
    "print(even_nos)"
   ]
  }
 ],
 "metadata": {
  "kernelspec": {
   "display_name": "Python 3",
   "language": "python",
   "name": "python3"
  },
  "language_info": {
   "codemirror_mode": {
    "name": "ipython",
    "version": 3
   },
   "file_extension": ".py",
   "mimetype": "text/x-python",
   "name": "python",
   "nbconvert_exporter": "python",
   "pygments_lexer": "ipython3",
   "version": "3.7.12"
  },
  "papermill": {
   "default_parameters": {},
   "duration": 12.947934,
   "end_time": "2023-04-13T02:24:13.022472",
   "environment_variables": {},
   "exception": null,
   "input_path": "__notebook__.ipynb",
   "output_path": "__notebook__.ipynb",
   "parameters": {},
   "start_time": "2023-04-13T02:24:00.074538",
   "version": "2.4.0"
  }
 },
 "nbformat": 4,
 "nbformat_minor": 5
}
