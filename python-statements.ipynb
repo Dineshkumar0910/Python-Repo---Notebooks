{
 "cells": [
  {
   "cell_type": "code",
   "execution_count": 1,
   "id": "46fa7d48",
   "metadata": {
    "execution": {
     "iopub.execute_input": "2023-04-07T02:46:28.513436Z",
     "iopub.status.busy": "2023-04-07T02:46:28.512754Z",
     "iopub.status.idle": "2023-04-07T02:46:28.522381Z",
     "shell.execute_reply": "2023-04-07T02:46:28.521285Z"
    },
    "papermill": {
     "duration": 0.017296,
     "end_time": "2023-04-07T02:46:28.525141",
     "exception": false,
     "start_time": "2023-04-07T02:46:28.507845",
     "status": "completed"
    },
    "tags": []
   },
   "outputs": [],
   "source": [
    "fruits = ['kiwi','banana','mango']\n",
    "if 'apple' in fruits:\n",
    "    print('kiwi is in fruits')"
   ]
  },
  {
   "cell_type": "code",
   "execution_count": 2,
   "id": "42ca412d",
   "metadata": {
    "execution": {
     "iopub.execute_input": "2023-04-07T02:46:28.532304Z",
     "iopub.status.busy": "2023-04-07T02:46:28.531422Z",
     "iopub.status.idle": "2023-04-07T02:46:28.537721Z",
     "shell.execute_reply": "2023-04-07T02:46:28.536608Z"
    },
    "papermill": {
     "duration": 0.014205,
     "end_time": "2023-04-07T02:46:28.542040",
     "exception": false,
     "start_time": "2023-04-07T02:46:28.527835",
     "status": "completed"
    },
    "tags": []
   },
   "outputs": [
    {
     "name": "stdout",
     "output_type": "stream",
     "text": [
      "apple does not exist\n"
     ]
    }
   ],
   "source": [
    "fruits = ['kiwi','banana','mango']\n",
    "if 'apple' in fruits:\n",
    "    print('apple is in fruits')\n",
    "else:\n",
    "    print('apple does not exist')"
   ]
  },
  {
   "cell_type": "code",
   "execution_count": 3,
   "id": "d7f91281",
   "metadata": {
    "execution": {
     "iopub.execute_input": "2023-04-07T02:46:28.548316Z",
     "iopub.status.busy": "2023-04-07T02:46:28.547901Z",
     "iopub.status.idle": "2023-04-07T02:46:28.555083Z",
     "shell.execute_reply": "2023-04-07T02:46:28.553865Z"
    },
    "papermill": {
     "duration": 0.013418,
     "end_time": "2023-04-07T02:46:28.557772",
     "exception": false,
     "start_time": "2023-04-07T02:46:28.544354",
     "status": "completed"
    },
    "tags": []
   },
   "outputs": [
    {
     "name": "stdout",
     "output_type": "stream",
     "text": [
      "mango is healthy\n"
     ]
    }
   ],
   "source": [
    "fruits = ['kiwi','banana','mango']\n",
    "if 'apple' in fruits:\n",
    "    print('apple is in fruits')\n",
    "elif 'watermelon' in fruits:\n",
    "    print('watermelon is good for summer')\n",
    "elif 'mango' in fruits:\n",
    "    print('mango is healthy')    \n",
    "else:\n",
    "    print('apple does not exist')"
   ]
  },
  {
   "cell_type": "code",
   "execution_count": 4,
   "id": "025b23fd",
   "metadata": {
    "execution": {
     "iopub.execute_input": "2023-04-07T02:46:28.564016Z",
     "iopub.status.busy": "2023-04-07T02:46:28.563614Z",
     "iopub.status.idle": "2023-04-07T02:46:28.570416Z",
     "shell.execute_reply": "2023-04-07T02:46:28.569228Z"
    },
    "papermill": {
     "duration": 0.012942,
     "end_time": "2023-04-07T02:46:28.573040",
     "exception": false,
     "start_time": "2023-04-07T02:46:28.560098",
     "status": "completed"
    },
    "tags": []
   },
   "outputs": [
    {
     "name": "stdout",
     "output_type": "stream",
     "text": [
      "kiwi is in fruits\n",
      "apple is not in Nested\n"
     ]
    }
   ],
   "source": [
    "fruits = ['kiwi','banana','mango']\n",
    "if 'kiwi' in fruits:\n",
    "    print('kiwi is in fruits')\n",
    "    if 'apple' in fruits:\n",
    "        print('apple is checked in nested')\n",
    "    else:\n",
    "        print('apple is not in Nested')\n",
    "else:\n",
    "    print('nothing exist')"
   ]
  }
 ],
 "metadata": {
  "kernelspec": {
   "display_name": "Python 3",
   "language": "python",
   "name": "python3"
  },
  "language_info": {
   "codemirror_mode": {
    "name": "ipython",
    "version": 3
   },
   "file_extension": ".py",
   "mimetype": "text/x-python",
   "name": "python",
   "nbconvert_exporter": "python",
   "pygments_lexer": "ipython3",
   "version": "3.7.12"
  },
  "papermill": {
   "default_parameters": {},
   "duration": 11.383374,
   "end_time": "2023-04-07T02:46:29.297940",
   "environment_variables": {},
   "exception": null,
   "input_path": "__notebook__.ipynb",
   "output_path": "__notebook__.ipynb",
   "parameters": {},
   "start_time": "2023-04-07T02:46:17.914566",
   "version": "2.4.0"
  }
 },
 "nbformat": 4,
 "nbformat_minor": 5
}
