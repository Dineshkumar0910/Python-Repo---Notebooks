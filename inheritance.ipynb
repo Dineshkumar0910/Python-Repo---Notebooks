{
 "cells": [
  {
   "cell_type": "code",
   "execution_count": 1,
   "id": "821ddb1e",
   "metadata": {
    "_cell_guid": "b1076dfc-b9ad-4769-8c92-a6c4dae69d19",
    "_uuid": "8f2839f25d086af736a60e9eeb907d3b93b6e0e5",
    "execution": {
     "iopub.execute_input": "2023-04-19T02:25:42.930755Z",
     "iopub.status.busy": "2023-04-19T02:25:42.930254Z",
     "iopub.status.idle": "2023-04-19T02:25:42.941811Z",
     "shell.execute_reply": "2023-04-19T02:25:42.940755Z"
    },
    "papermill": {
     "duration": 0.019044,
     "end_time": "2023-04-19T02:25:42.944102",
     "exception": false,
     "start_time": "2023-04-19T02:25:42.925058",
     "status": "completed"
    },
    "tags": []
   },
   "outputs": [
    {
     "name": "stdout",
     "output_type": "stream",
     "text": [
      "This is Kohli score:200\n",
      "Total score is 300\n"
     ]
    }
   ],
   "source": [
    "#Single Inheritance (A -> B)\n",
    "class Cricket:\n",
    "    def score(self):\n",
    "        print(\"Total score is 300\")\n",
    "        \n",
    "class Kohli(Cricket):\n",
    "    def batting(self):\n",
    "        print(\"This is Kohli score:200\")\n",
    "\n",
    "K = Kohli()\n",
    "K.batting()\n",
    "K.score()"
   ]
  },
  {
   "cell_type": "code",
   "execution_count": 2,
   "id": "5988b88c",
   "metadata": {
    "execution": {
     "iopub.execute_input": "2023-04-19T02:25:42.950461Z",
     "iopub.status.busy": "2023-04-19T02:25:42.949861Z",
     "iopub.status.idle": "2023-04-19T02:25:42.956344Z",
     "shell.execute_reply": "2023-04-19T02:25:42.955540Z"
    },
    "papermill": {
     "duration": 0.011658,
     "end_time": "2023-04-19T02:25:42.958255",
     "exception": false,
     "start_time": "2023-04-19T02:25:42.946597",
     "status": "completed"
    },
    "tags": []
   },
   "outputs": [
    {
     "name": "stdout",
     "output_type": "stream",
     "text": [
      "This is Kohli score:200\n",
      "RCB has 250\n",
      "Total score is 300\n"
     ]
    }
   ],
   "source": [
    "class Cricket:\n",
    "    def score(self):\n",
    "        print(\"Total score is 300\")\n",
    "\n",
    "class RCB:\n",
    "    def total(self):\n",
    "        print(\"RCB has 250\")\n",
    "        \n",
    "class Kohli(Cricket, RCB):\n",
    "    def batting(self):\n",
    "        print(\"This is Kohli score:200\")\n",
    "        \n",
    "K1 = Kohli()\n",
    "K1.batting()\n",
    "K1.total()\n",
    "K1.score()"
   ]
  },
  {
   "cell_type": "code",
   "execution_count": 3,
   "id": "56294619",
   "metadata": {
    "execution": {
     "iopub.execute_input": "2023-04-19T02:25:42.964548Z",
     "iopub.status.busy": "2023-04-19T02:25:42.964000Z",
     "iopub.status.idle": "2023-04-19T02:25:42.970627Z",
     "shell.execute_reply": "2023-04-19T02:25:42.969372Z"
    },
    "papermill": {
     "duration": 0.01178,
     "end_time": "2023-04-19T02:25:42.972503",
     "exception": false,
     "start_time": "2023-04-19T02:25:42.960723",
     "status": "completed"
    },
    "tags": []
   },
   "outputs": [
    {
     "name": "stdout",
     "output_type": "stream",
     "text": [
      "This is race car\n",
      "This is Car class\n",
      "This is Transport class\n"
     ]
    }
   ],
   "source": [
    "class Transport:\n",
    "    def vehicle(self):\n",
    "        print(\"This is Transport class\")\n",
    "\n",
    "class Car(Transport):\n",
    "    def car_info(self):\n",
    "        print(\"This is Car class\")\n",
    "\n",
    "class F1car(Car):\n",
    "    def f1c(self):\n",
    "        print(\"This is race car\")\n",
    "\n",
    "F1 = F1car()\n",
    "F1.f1c()\n",
    "F1.car_info()\n",
    "F1.vehicle()"
   ]
  },
  {
   "cell_type": "code",
   "execution_count": 4,
   "id": "ddd80e4b",
   "metadata": {
    "execution": {
     "iopub.execute_input": "2023-04-19T02:25:42.978817Z",
     "iopub.status.busy": "2023-04-19T02:25:42.978076Z",
     "iopub.status.idle": "2023-04-19T02:25:42.984775Z",
     "shell.execute_reply": "2023-04-19T02:25:42.983582Z"
    },
    "papermill": {
     "duration": 0.012053,
     "end_time": "2023-04-19T02:25:42.986902",
     "exception": false,
     "start_time": "2023-04-19T02:25:42.974849",
     "status": "completed"
    },
    "tags": []
   },
   "outputs": [
    {
     "name": "stdout",
     "output_type": "stream",
     "text": [
      "This is race car\n",
      "This is Transport class\n",
      "This is Car class\n",
      "This is Transport class\n"
     ]
    }
   ],
   "source": [
    "class Transport:\n",
    "    def vehicle(self):\n",
    "        print(\"This is Transport class\")\n",
    "\n",
    "class Car(Transport):\n",
    "    def car_info(self):\n",
    "        print(\"This is Car class\")\n",
    "\n",
    "class F1car(Transport):\n",
    "    def f1c(self):\n",
    "        print(\"This is race car\")\n",
    "\n",
    "F2 = F1car()\n",
    "F2.f1c()\n",
    "F2.vehicle()\n",
    "\n",
    "C = Car()\n",
    "C.car_info()\n",
    "C.vehicle()"
   ]
  },
  {
   "cell_type": "code",
   "execution_count": 5,
   "id": "cef3344a",
   "metadata": {
    "execution": {
     "iopub.execute_input": "2023-04-19T02:25:42.994097Z",
     "iopub.status.busy": "2023-04-19T02:25:42.993857Z",
     "iopub.status.idle": "2023-04-19T02:25:43.000093Z",
     "shell.execute_reply": "2023-04-19T02:25:42.999146Z"
    },
    "papermill": {
     "duration": 0.01191,
     "end_time": "2023-04-19T02:25:43.001992",
     "exception": false,
     "start_time": "2023-04-19T02:25:42.990082",
     "status": "completed"
    },
    "tags": []
   },
   "outputs": [
    {
     "name": "stdout",
     "output_type": "stream",
     "text": [
      "Dinesh works in Microsoft\n"
     ]
    }
   ],
   "source": [
    "class Company:\n",
    "    def com_name(self):\n",
    "        return 'Microsoft'\n",
    "\n",
    "class Employee(Company):\n",
    "    def emp(self):\n",
    "        c = super().com_name()\n",
    "        print(\"Dinesh works in\",c)\n",
    "        \n",
    "e = Employee()\n",
    "e.emp()"
   ]
  },
  {
   "cell_type": "code",
   "execution_count": 6,
   "id": "088f03c9",
   "metadata": {
    "execution": {
     "iopub.execute_input": "2023-04-19T02:25:43.009324Z",
     "iopub.status.busy": "2023-04-19T02:25:43.008538Z",
     "iopub.status.idle": "2023-04-19T02:25:43.017964Z",
     "shell.execute_reply": "2023-04-19T02:25:43.017299Z"
    },
    "papermill": {
     "duration": 0.015263,
     "end_time": "2023-04-19T02:25:43.019926",
     "exception": false,
     "start_time": "2023-04-19T02:25:43.004663",
     "status": "completed"
    },
    "tags": []
   },
   "outputs": [
    {
     "name": "stdout",
     "output_type": "stream",
     "text": [
      "250kph\n",
      "100kph\n"
     ]
    }
   ],
   "source": [
    "class Vehicle:\n",
    "    def speed(self):\n",
    "        print(\"100kph\")\n",
    "class Bike(Vehicle):\n",
    "    def speed(self):\n",
    "        print(\"250kph\")\n",
    "        \n",
    "Bi = Bike()\n",
    "Bi.speed()\n",
    "V = Vehicle()\n",
    "V.speed()"
   ]
  },
  {
   "cell_type": "code",
   "execution_count": 7,
   "id": "7ad448a0",
   "metadata": {
    "collapsed": true,
    "execution": {
     "iopub.execute_input": "2023-04-19T02:25:43.028486Z",
     "iopub.status.busy": "2023-04-19T02:25:43.028005Z",
     "iopub.status.idle": "2023-04-19T02:25:43.033041Z",
     "shell.execute_reply": "2023-04-19T02:25:43.032228Z"
    },
    "jupyter": {
     "outputs_hidden": true
    },
    "papermill": {
     "duration": 0.011492,
     "end_time": "2023-04-19T02:25:43.034877",
     "exception": false,
     "start_time": "2023-04-19T02:25:43.023385",
     "status": "completed"
    },
    "tags": []
   },
   "outputs": [
    {
     "name": "stdout",
     "output_type": "stream",
     "text": [
      "4\n",
      "4\n"
     ]
    }
   ],
   "source": [
    "stu = ['James','David','Muurugan','Prakash']\n",
    "school = 'SBOA'\n",
    "\n",
    "print(len(stu))\n",
    "print(len(school))"
   ]
  },
  {
   "cell_type": "code",
   "execution_count": null,
   "id": "64be363e",
   "metadata": {
    "papermill": {
     "duration": 0.004219,
     "end_time": "2023-04-19T02:25:43.043392",
     "exception": false,
     "start_time": "2023-04-19T02:25:43.039173",
     "status": "completed"
    },
    "tags": []
   },
   "outputs": [],
   "source": []
  }
 ],
 "metadata": {
  "kernelspec": {
   "display_name": "Python 3",
   "language": "python",
   "name": "python3"
  },
  "language_info": {
   "codemirror_mode": {
    "name": "ipython",
    "version": 3
   },
   "file_extension": ".py",
   "mimetype": "text/x-python",
   "name": "python",
   "nbconvert_exporter": "python",
   "pygments_lexer": "ipython3",
   "version": "3.7.12"
  },
  "papermill": {
   "default_parameters": {},
   "duration": 8.952759,
   "end_time": "2023-04-19T02:25:43.570847",
   "environment_variables": {},
   "exception": null,
   "input_path": "__notebook__.ipynb",
   "output_path": "__notebook__.ipynb",
   "parameters": {},
   "start_time": "2023-04-19T02:25:34.618088",
   "version": "2.4.0"
  }
 },
 "nbformat": 4,
 "nbformat_minor": 5
}
